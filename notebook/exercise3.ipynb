{
 "cells": [
  {
   "cell_type": "code",
   "execution_count": 1,
   "metadata": {},
   "outputs": [],
   "source": [
    "from HousePricePrediction import ingest_data as house_price\n",
    "import os\n",
    "import pandas as pd\n",
    "import numpy as np"
   ]
  },
  {
   "cell_type": "code",
   "execution_count": 2,
   "metadata": {},
   "outputs": [],
   "source": [
    "house_price.fetch_housing_data(\n",
    "    housing_url=r\"https://raw.githubusercontent.com/ageron/handson-ml/master/datasets/housing/housing.tgz\",\n",
    "    housing_path=r\"/home/sayantanchakrab/mle_training/data/raw/\")"
   ]
  },
  {
   "cell_type": "code",
   "execution_count": 4,
   "metadata": {},
   "outputs": [
    {
     "data": {
      "text/html": [
       "<div>\n",
       "<style scoped>\n",
       "    .dataframe tbody tr th:only-of-type {\n",
       "        vertical-align: middle;\n",
       "    }\n",
       "\n",
       "    .dataframe tbody tr th {\n",
       "        vertical-align: top;\n",
       "    }\n",
       "\n",
       "    .dataframe thead th {\n",
       "        text-align: right;\n",
       "    }\n",
       "</style>\n",
       "<table border=\"1\" class=\"dataframe\">\n",
       "  <thead>\n",
       "    <tr style=\"text-align: right;\">\n",
       "      <th></th>\n",
       "      <th>longitude</th>\n",
       "      <th>latitude</th>\n",
       "      <th>housing_median_age</th>\n",
       "      <th>total_rooms</th>\n",
       "      <th>total_bedrooms</th>\n",
       "      <th>population</th>\n",
       "      <th>households</th>\n",
       "      <th>median_income</th>\n",
       "      <th>median_house_value</th>\n",
       "      <th>ocean_proximity</th>\n",
       "    </tr>\n",
       "  </thead>\n",
       "  <tbody>\n",
       "    <tr>\n",
       "      <th>0</th>\n",
       "      <td>-122.23</td>\n",
       "      <td>37.88</td>\n",
       "      <td>41.0</td>\n",
       "      <td>880.0</td>\n",
       "      <td>129.0</td>\n",
       "      <td>322.0</td>\n",
       "      <td>126.0</td>\n",
       "      <td>8.3252</td>\n",
       "      <td>452600.0</td>\n",
       "      <td>NEAR BAY</td>\n",
       "    </tr>\n",
       "    <tr>\n",
       "      <th>1</th>\n",
       "      <td>-122.22</td>\n",
       "      <td>37.86</td>\n",
       "      <td>21.0</td>\n",
       "      <td>7099.0</td>\n",
       "      <td>1106.0</td>\n",
       "      <td>2401.0</td>\n",
       "      <td>1138.0</td>\n",
       "      <td>8.3014</td>\n",
       "      <td>358500.0</td>\n",
       "      <td>NEAR BAY</td>\n",
       "    </tr>\n",
       "    <tr>\n",
       "      <th>2</th>\n",
       "      <td>-122.24</td>\n",
       "      <td>37.85</td>\n",
       "      <td>52.0</td>\n",
       "      <td>1467.0</td>\n",
       "      <td>190.0</td>\n",
       "      <td>496.0</td>\n",
       "      <td>177.0</td>\n",
       "      <td>7.2574</td>\n",
       "      <td>352100.0</td>\n",
       "      <td>NEAR BAY</td>\n",
       "    </tr>\n",
       "    <tr>\n",
       "      <th>3</th>\n",
       "      <td>-122.25</td>\n",
       "      <td>37.85</td>\n",
       "      <td>52.0</td>\n",
       "      <td>1274.0</td>\n",
       "      <td>235.0</td>\n",
       "      <td>558.0</td>\n",
       "      <td>219.0</td>\n",
       "      <td>5.6431</td>\n",
       "      <td>341300.0</td>\n",
       "      <td>NEAR BAY</td>\n",
       "    </tr>\n",
       "    <tr>\n",
       "      <th>4</th>\n",
       "      <td>-122.25</td>\n",
       "      <td>37.85</td>\n",
       "      <td>52.0</td>\n",
       "      <td>1627.0</td>\n",
       "      <td>280.0</td>\n",
       "      <td>565.0</td>\n",
       "      <td>259.0</td>\n",
       "      <td>3.8462</td>\n",
       "      <td>342200.0</td>\n",
       "      <td>NEAR BAY</td>\n",
       "    </tr>\n",
       "  </tbody>\n",
       "</table>\n",
       "</div>"
      ],
      "text/plain": [
       "   longitude  latitude  housing_median_age  total_rooms  total_bedrooms  \\\n",
       "0    -122.23     37.88                41.0        880.0           129.0   \n",
       "1    -122.22     37.86                21.0       7099.0          1106.0   \n",
       "2    -122.24     37.85                52.0       1467.0           190.0   \n",
       "3    -122.25     37.85                52.0       1274.0           235.0   \n",
       "4    -122.25     37.85                52.0       1627.0           280.0   \n",
       "\n",
       "   population  households  median_income  median_house_value ocean_proximity  \n",
       "0       322.0       126.0         8.3252            452600.0        NEAR BAY  \n",
       "1      2401.0      1138.0         8.3014            358500.0        NEAR BAY  \n",
       "2       496.0       177.0         7.2574            352100.0        NEAR BAY  \n",
       "3       558.0       219.0         5.6431            341300.0        NEAR BAY  \n",
       "4       565.0       259.0         3.8462            342200.0        NEAR BAY  "
      ]
     },
     "execution_count": 4,
     "metadata": {},
     "output_type": "execute_result"
    }
   ],
   "source": [
    "housing_df=house_price.load_housing_data(housing_path=r\"/home/sayantanchakrab/mle_training/data/raw/\")\n",
    "housing_df.head()"
   ]
  },
  {
   "cell_type": "code",
   "execution_count": 5,
   "metadata": {},
   "outputs": [
    {
     "data": {
      "text/plain": [
       "median_house_value    1.000000\n",
       "median_income         0.688075\n",
       "total_rooms           0.134153\n",
       "housing_median_age    0.105623\n",
       "households            0.065843\n",
       "total_bedrooms        0.049686\n",
       "population           -0.024650\n",
       "longitude            -0.045967\n",
       "latitude             -0.144160\n",
       "Name: median_house_value, dtype: float64"
      ]
     },
     "execution_count": 5,
     "metadata": {},
     "output_type": "execute_result"
    }
   ],
   "source": [
    "corr_matrix = housing_df.corr(numeric_only=True)\n",
    "corr_matrix[\"median_house_value\"].sort_values(ascending=False)"
   ]
  },
  {
   "cell_type": "code",
   "execution_count": 6,
   "metadata": {},
   "outputs": [],
   "source": [
    "col_names = \"total_rooms\", \"total_bedrooms\", \"population\", \"households\"\n",
    "rooms_ix, bedrooms_ix, population_ix, household_ix = [\n",
    "    housing_df.columns.get_loc(c) for c in col_names\n",
    "]  # get the column indices"
   ]
  },
  {
   "cell_type": "code",
   "execution_count": 7,
   "metadata": {},
   "outputs": [],
   "source": [
    "from sklearn.base import BaseEstimator, TransformerMixin\n",
    "from sklearn.compose import ColumnTransformer"
   ]
  },
  {
   "cell_type": "code",
   "execution_count": 8,
   "metadata": {},
   "outputs": [],
   "source": [
    "class CombinedAttributesAdder(BaseEstimator, TransformerMixin):\n",
    "    def __init__(self, add_bedrooms_per_room=True):  # no *args or **kargs\n",
    "        self.add_bedrooms_per_room = add_bedrooms_per_room\n",
    "\n",
    "    def fit(self, X, y=None):\n",
    "        #self.columns = X.columns\n",
    "        return self  # nothing else to do\n",
    "\n",
    "    def transform(self, X):\n",
    "        rooms_per_household = X[:, rooms_ix] / X[:, household_ix]\n",
    "        population_per_household = X[:, population_ix] / X[:, household_ix]\n",
    "        if self.add_bedrooms_per_room:\n",
    "            bedrooms_per_room = X[:, bedrooms_ix] / X[:, rooms_ix]\n",
    "            return np.c_[X, rooms_per_household, population_per_household, bedrooms_per_room]\n",
    "        else:\n",
    "            return np.c_[X, rooms_per_household, population_per_household]"
   ]
  },
  {
   "cell_type": "code",
   "execution_count": 9,
   "metadata": {},
   "outputs": [],
   "source": [
    "housing_num = housing_df.drop(\"ocean_proximity\", axis=1)\n",
    "num_attribs = list(housing_num)\n",
    "cat_attribs = [\"ocean_proximity\"]"
   ]
  },
  {
   "cell_type": "code",
   "execution_count": 10,
   "metadata": {},
   "outputs": [],
   "source": [
    "from sklearn.pipeline import Pipeline\n",
    "from sklearn.impute import SimpleImputer\n",
    "from sklearn.preprocessing import StandardScaler, OneHotEncoder"
   ]
  },
  {
   "cell_type": "code",
   "execution_count": 11,
   "metadata": {},
   "outputs": [],
   "source": [
    "num_pipeline = Pipeline(\n",
    "    [\n",
    "        (\"imputer\", SimpleImputer(strategy=\"median\")),\n",
    "        (\"attribs_adder\", CombinedAttributesAdder()),\n",
    "        (\"std_scaler\", StandardScaler()),\n",
    "    ]\n",
    ")"
   ]
  },
  {
   "cell_type": "code",
   "execution_count": 12,
   "metadata": {},
   "outputs": [],
   "source": [
    "full_pipeline = ColumnTransformer(\n",
    "    [\n",
    "        (\"num\", num_pipeline, num_attribs),\n",
    "        (\"cat\", OneHotEncoder(sparse_output = False), cat_attribs),\n",
    "    ],\n",
    "    remainder='passthrough'\n",
    ")"
   ]
  },
  {
   "cell_type": "code",
   "execution_count": 13,
   "metadata": {},
   "outputs": [],
   "source": [
    "housing_prepared = full_pipeline.fit_transform(housing_df)"
   ]
  },
  {
   "cell_type": "code",
   "execution_count": 14,
   "metadata": {},
   "outputs": [],
   "source": [
    "def get_feature_names_from_column_transformer(col_trans):\n",
    "    \"\"\"Get feature names from a sklearn column transformer.\n",
    "\n",
    "    The `ColumnTransformer` class in `scikit-learn` supports taking in a\n",
    "    `pd.DataFrame` object and specifying `Transformer` operations on columns.\n",
    "    The output of the `ColumnTransformer` is a numpy array that can used and\n",
    "    does not contain the column names from the original dataframe. The class\n",
    "    provides a `get_feature_names` method for this purpose that returns the\n",
    "    column names corr. to the output array. Unfortunately, not all\n",
    "    `scikit-learn` classes provide this method (e.g. `Pipeline`) and still\n",
    "    being actively worked upon.\n",
    "\n",
    "\tNOTE: This utility function is a temporary solution until the proper fix is\n",
    "    available in the `scikit-learn` library.\n",
    "    \"\"\"\n",
    "    from sklearn.pipeline import Pipeline\n",
    "    from sklearn.impute import SimpleImputer\n",
    "    from sklearn.preprocessing import OneHotEncoder as skohe\n",
    "\n",
    "\t# SimpleImputer has `add_indicator` attribute that distinguishes it from other transformers\n",
    "    # Encoder had `get_feature_names` attribute that distinguishes it from other transformers\n",
    "\t# The last transformer is ColumnTransformer's 'remainder'\n",
    "    col_name = []\n",
    "    for transformer_in_columns in col_trans.transformers_:\n",
    "        is_pipeline=0\n",
    "        raw_col_name = list(transformer_in_columns[2])\n",
    "\n",
    "        if isinstance(transformer_in_columns[1], Pipeline):\n",
    "            # if pipeline, get the last transformer\n",
    "            transformer = transformer_in_columns[1].steps[-1][1]\n",
    "            is_pipeline=1\n",
    "        else:\n",
    "            transformer = transformer_in_columns[1]\n",
    "\n",
    "        try:\n",
    "            if isinstance(transformer, str):\n",
    "                if transformer == \"passthrough\":\n",
    "                    names = transformer._feature_names_in[raw_col_name].tolist()\n",
    "\n",
    "                elif transformer == \"drop\":\n",
    "                    names = []\n",
    "\n",
    "                else:\n",
    "                    raise RuntimeError(\n",
    "                        f\"Unexpected transformer action for unaccounted cols :\"\n",
    "                        f\"{transformer} : {raw_col_name}\"\n",
    "                    )\n",
    "\n",
    "            elif isinstance(transformer, skohe):\n",
    "                names = list(transformer.get_feature_names(raw_col_name))\n",
    "\n",
    "            elif isinstance(transformer, SimpleImputer) and transformer.add_indicator:\n",
    "                missing_indicator_indices = transformer.indicator_.features_\n",
    "                missing_indicators = [raw_col_name[idx] + '_missing_flag' for idx in missing_indicator_indices]\n",
    "\n",
    "                names = raw_col_name + missing_indicators\n",
    "\n",
    "            else:\n",
    "                names = list(transformer.get_feature_names())\n",
    "\n",
    "        except AttributeError as error:\n",
    "              names = raw_col_name\n",
    "        if is_pipeline:\n",
    "            names=[f'{transformer_in_columns[0]}_{col_}'for col_ in names]\n",
    "        col_name.extend(names)\n",
    "\n",
    "    return col_name"
   ]
  },
  {
   "cell_type": "code",
   "execution_count": 15,
   "metadata": {},
   "outputs": [
    {
     "data": {
      "text/plain": [
       "[('num',\n",
       "  Pipeline(steps=[('imputer', SimpleImputer(strategy='median')),\n",
       "                  ('attribs_adder', CombinedAttributesAdder()),\n",
       "                  ('std_scaler', StandardScaler())]),\n",
       "  ['longitude',\n",
       "   'latitude',\n",
       "   'housing_median_age',\n",
       "   'total_rooms',\n",
       "   'total_bedrooms',\n",
       "   'population',\n",
       "   'households',\n",
       "   'median_income',\n",
       "   'median_house_value']),\n",
       " ('cat', OneHotEncoder(sparse_output=False), ['ocean_proximity'])]"
      ]
     },
     "execution_count": 15,
     "metadata": {},
     "output_type": "execute_result"
    }
   ],
   "source": [
    "full_pipeline.transformers"
   ]
  },
  {
   "cell_type": "code",
   "execution_count": 16,
   "metadata": {},
   "outputs": [
    {
     "data": {
      "text/plain": [
       "['num_longitude',\n",
       " 'num_latitude',\n",
       " 'num_housing_median_age',\n",
       " 'num_total_rooms',\n",
       " 'num_total_bedrooms',\n",
       " 'num_population',\n",
       " 'num_households',\n",
       " 'num_median_income',\n",
       " 'num_median_house_value',\n",
       " 'ocean_proximity']"
      ]
     },
     "execution_count": 16,
     "metadata": {},
     "output_type": "execute_result"
    }
   ],
   "source": [
    "col_names= get_feature_names_from_column_transformer(full_pipeline)\n",
    "col_names"
   ]
  }
 ],
 "metadata": {
  "kernelspec": {
   "display_name": "mle-dev",
   "language": "python",
   "name": "python3"
  },
  "language_info": {
   "codemirror_mode": {
    "name": "ipython",
    "version": 3
   },
   "file_extension": ".py",
   "mimetype": "text/x-python",
   "name": "python",
   "nbconvert_exporter": "python",
   "pygments_lexer": "ipython3",
   "version": "3.8.18"
  }
 },
 "nbformat": 4,
 "nbformat_minor": 2
}
